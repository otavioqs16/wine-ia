{
  "nbformat": 4,
  "nbformat_minor": 0,
  "metadata": {
    "colab": {
      "name": "wine.ipynb",
      "provenance": [],
      "collapsed_sections": [],
      "authorship_tag": "ABX9TyNcTOGBDFsG8rPPTXVauA/E",
      "include_colab_link": true
    },
    "kernelspec": {
      "name": "python3",
      "display_name": "Python 3"
    }
  },
  "cells": [
    {
      "cell_type": "markdown",
      "metadata": {
        "id": "view-in-github",
        "colab_type": "text"
      },
      "source": [
        "<a href=\"https://colab.research.google.com/github/otavioqs16/wine-ia/blob/main/wine.ipynb\" target=\"_parent\"><img src=\"https://colab.research.google.com/assets/colab-badge.svg\" alt=\"Open In Colab\"/></a>"
      ]
    },
    {
      "cell_type": "code",
      "metadata": {
        "id": "TTL57hPmNrpn"
      },
      "source": [
        "import torch\n",
        "import numpy as np"
      ],
      "execution_count": 31,
      "outputs": []
    },
    {
      "cell_type": "code",
      "metadata": {
        "id": "ZaVFHJANOVKg"
      },
      "source": [
        "class Net(torch.nn.Module):\n",
        "    def __init__(self, input_size, hidden_size):\n",
        "        super(Net, self).__init__()\n",
        "        self.input_size = input_size\n",
        "        self.hidden_size = hidden_size\n",
        "        self.fc1 = torch.nn.Linear(self.input_size, self.hidden_size)\n",
        "        self.relu = torch.nn.ReLU()\n",
        "        self.fc2 = torch.nn.Linear(self.hidden_size, 1)\n",
        "        self.tanh = torch.nn.Tanh()\n",
        "    def forward(self, x):\n",
        "        hidden = self.fc1(x)\n",
        "        relu = self.relu(hidden)\n",
        "        output = self.fc2(relu)\n",
        "        output = self.tanh(output)\n",
        "        return output"
      ],
      "execution_count": 32,
      "outputs": []
    },
    {
      "cell_type": "code",
      "metadata": {
        "id": "D9Dg-fx-Oc16"
      },
      "source": [
        "from sklearn import datasets"
      ],
      "execution_count": 33,
      "outputs": []
    },
    {
      "cell_type": "code",
      "metadata": {
        "id": "MT7qbssaOeR2"
      },
      "source": [
        "wine = datasets.load_wine()\n",
        "print(wine)"
      ],
      "execution_count": null,
      "outputs": []
    },
    {
      "cell_type": "code",
      "metadata": {
        "id": "TPW7KDVpOlP0"
      },
      "source": [
        "dados = wine.data\n",
        "classes = wine.target\n",
        "print(dados)\n",
        "print(classes)"
      ],
      "execution_count": null,
      "outputs": []
    },
    {
      "cell_type": "code",
      "metadata": {
        "id": "6LRnuyXDOtNV"
      },
      "source": [
        "from sklearn.utils import shuffle"
      ],
      "execution_count": 36,
      "outputs": []
    },
    {
      "cell_type": "code",
      "metadata": {
        "id": "iybnQWBMO_u4"
      },
      "source": [
        "x = dados\n",
        "y = classes\n",
        "x, y = shuffle(x, y)\n",
        "print(x)\n",
        "print(y)"
      ],
      "execution_count": null,
      "outputs": []
    },
    {
      "cell_type": "code",
      "metadata": {
        "id": "WzVYFd79hpYM"
      },
      "source": [
        "for i in range(len(x[1])):\n",
        "  print(np.max(x[i]))\n",
        "  max = np.max(x[i])\n",
        "  if max < 10:\n",
        "    x[i] /= 10\n",
        "  elif max < 100:\n",
        "    x[i] /= 100\n",
        "  elif max < 1000:\n",
        "    x[i] /= 1000\n",
        "  else:\n",
        "    x[i] /= 10000\n",
        "\n",
        "for i in range(len(x[1])):\n",
        "  print(np.max(x[i]))"
      ],
      "execution_count": null,
      "outputs": []
    },
    {
      "cell_type": "code",
      "metadata": {
        "id": "BuqW-CcHPHc7"
      },
      "source": [
        "training_input = torch.FloatTensor(x[0:142, :])\n",
        "training_output = torch.FloatTensor(y[0:142])\n",
        "test_input = torch.FloatTensor(x[142:178, :])\n",
        "test_output = torch.FloatTensor(y[142:178])\n",
        "print(test_output.size())\n",
        "print(test_input.size())"
      ],
      "execution_count": null,
      "outputs": []
    },
    {
      "cell_type": "code",
      "metadata": {
        "id": "N3s0hmHSPUEc"
      },
      "source": [
        "input_size = training_input.size()[1]\n",
        "hidden_size = 15\n",
        "model = Net(input_size, hidden_size)\n",
        "#print(model)\n",
        "for param in model.parameters():\n",
        "  #print(param)\n",
        "  pass"
      ],
      "execution_count": 40,
      "outputs": []
    },
    {
      "cell_type": "code",
      "metadata": {
        "id": "MBAFyZZ1Pe21"
      },
      "source": [
        "#Preparando o treinamento\n",
        "criterion = torch.nn.MSELoss() #Mean Square Error Loss (saida_real - saida_prevista)^2\n",
        "optimizer = torch.optim.SGD(model.parameters(), lr = 0.1)\n",
        "\n",
        "#Avaliar o erro inicial da rede\n",
        "model.eval() # roda a rede mas sem atualizar os pesos\n",
        "y_pred = model(test_input)\n",
        "before_train = criterion(y_pred.squeeze(), test_output)\n",
        "#[100,] --> [100]\n",
        "print(f'Erro antes do treinamento: {before_train.item()}')"
      ],
      "execution_count": null,
      "outputs": []
    },
    {
      "cell_type": "code",
      "metadata": {
        "id": "iRzgRjFcPpv8"
      },
      "source": [
        "#Treinamento da rede\n",
        "model.train()\n",
        "epochs = 10000\n",
        "errors = []\n",
        "for epoch in range(epochs):\n",
        "  optimizer.zero_grad()\n",
        "  #fazer o forward da minha rede\n",
        "  y_pred = model(training_input)\n",
        "  #calcula o erro desse treinamento\n",
        "  loss = criterion(y_pred.squeeze(), training_output)\n",
        "  errors.append(loss.item())\n",
        "  if epoch % 1000 == 0:\n",
        "    print(f'Epoch: {epoch}. Train loss: {loss.item()}')\n",
        "  #backpropagation\n",
        "  loss.backward()\n",
        "  optimizer.step()"
      ],
      "execution_count": null,
      "outputs": []
    },
    {
      "cell_type": "code",
      "metadata": {
        "id": "6v8Opk8nPx5K"
      },
      "source": [
        "#Avaliar o erro pós treinamento da rede\n",
        "model.eval() # roda a rede mas sem atualizar os pesos\n",
        "y_pred = model(test_input)\n",
        "after_train = criterion(y_pred.squeeze(), test_output)\n",
        "print(f'Erro pós-treinamento: {after_train.item()}')"
      ],
      "execution_count": null,
      "outputs": []
    },
    {
      "cell_type": "code",
      "metadata": {
        "id": "kePBsuhjP3HK"
      },
      "source": [
        "import matplotlib.pyplot as plt\n",
        "import numpy as np"
      ],
      "execution_count": 44,
      "outputs": []
    },
    {
      "cell_type": "code",
      "metadata": {
        "id": "_80pROvUP55L"
      },
      "source": [
        "def plotcharts(errors):\n",
        "    errors = np.array(errors)\n",
        "    plt.figure(figsize=(12, 5))\n",
        "    graf02 = plt.subplot(1, 2, 1) # nrows, ncols, index\n",
        "    graf02.set_title('Errors')\n",
        "    plt.plot(errors, '-')\n",
        "    plt.xlabel('Epochs')\n",
        "    graf03 = plt.subplot(1, 2, 2)\n",
        "    graf03.set_title('Tests')\n",
        "    a = plt.plot(test_output.numpy(), 'yo', label='Real')\n",
        "    plt.setp(a, markersize=10)\n",
        "    a = plt.plot(y_pred.detach().numpy(), 'b+', label='Predicted')\n",
        "    plt.setp(a, markersize=10)\n",
        "    plt.legend(loc=7)\n",
        "    plt.show()\n",
        "plotcharts(errors)"
      ],
      "execution_count": null,
      "outputs": []
    }
  ]
}