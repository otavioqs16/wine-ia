{
  "nbformat": 4,
  "nbformat_minor": 0,
  "metadata": {
    "colab": {
      "name": "wine.ipynb",
      "provenance": [],
      "collapsed_sections": [],
      "authorship_tag": "ABX9TyNcTOGBDFsG8rPPTXVauA/E",
      "include_colab_link": true
    },
    "kernelspec": {
      "name": "python3",
      "display_name": "Python 3"
    }
  },
  "cells": [
    {
      "cell_type": "markdown",
      "metadata": {
        "id": "view-in-github",
        "colab_type": "text"
      },
      "source": [
        "<a href=\"https://colab.research.google.com/github/otavioqs16/wine-ia/blob/main/wine.ipynb\" target=\"_parent\"><img src=\"https://colab.research.google.com/assets/colab-badge.svg\" alt=\"Open In Colab\"/></a>"
      ]
    },
    {
      "cell_type": "code",
      "metadata": {
        "id": "TTL57hPmNrpn"
      },
      "source": [
        "import torch\n",
        "import numpy as np"
      ],
      "execution_count": 31,
      "outputs": []
    },
    {
      "cell_type": "code",
      "metadata": {
        "id": "ZaVFHJANOVKg"
      },
      "source": [
        "class Net(torch.nn.Module):\n",
        "    def __init__(self, input_size, hidden_size):\n",
        "        super(Net, self).__init__()\n",
        "        self.input_size = input_size\n",
        "        self.hidden_size = hidden_size\n",
        "        self.fc1 = torch.nn.Linear(self.input_size, self.hidden_size)\n",
        "        self.relu = torch.nn.ReLU()\n",
        "        self.fc2 = torch.nn.Linear(self.hidden_size, 1)\n",
        "        self.tanh = torch.nn.Tanh()\n",
        "    def forward(self, x):\n",
        "        hidden = self.fc1(x)\n",
        "        relu = self.relu(hidden)\n",
        "        output = self.fc2(relu)\n",
        "        output = self.tanh(output)\n",
        "        return output"
      ],
      "execution_count": 32,
      "outputs": []
    },
    {
      "cell_type": "code",
      "metadata": {
        "id": "D9Dg-fx-Oc16"
      },
      "source": [
        "from sklearn import datasets"
      ],
      "execution_count": 33,
      "outputs": []
    },
    {
      "cell_type": "code",
      "metadata": {
        "id": "MT7qbssaOeR2",
        "colab": {
          "base_uri": "https://localhost:8080/"
        },
        "outputId": "06786e44-eecb-4120-d95e-5c8fa23127b9"
      },
      "source": [
        "wine = datasets.load_wine()\n",
        "print(wine)"
      ],
      "execution_count": 34,
      "outputs": [
        {
          "output_type": "stream",
          "text": [
            "{'data': array([[1.423e+01, 1.710e+00, 2.430e+00, ..., 1.040e+00, 3.920e+00,\n",
            "        1.065e+03],\n",
            "       [1.320e+01, 1.780e+00, 2.140e+00, ..., 1.050e+00, 3.400e+00,\n",
            "        1.050e+03],\n",
            "       [1.316e+01, 2.360e+00, 2.670e+00, ..., 1.030e+00, 3.170e+00,\n",
            "        1.185e+03],\n",
            "       ...,\n",
            "       [1.327e+01, 4.280e+00, 2.260e+00, ..., 5.900e-01, 1.560e+00,\n",
            "        8.350e+02],\n",
            "       [1.317e+01, 2.590e+00, 2.370e+00, ..., 6.000e-01, 1.620e+00,\n",
            "        8.400e+02],\n",
            "       [1.413e+01, 4.100e+00, 2.740e+00, ..., 6.100e-01, 1.600e+00,\n",
            "        5.600e+02]]), 'target': array([0, 0, 0, 0, 0, 0, 0, 0, 0, 0, 0, 0, 0, 0, 0, 0, 0, 0, 0, 0, 0, 0,\n",
            "       0, 0, 0, 0, 0, 0, 0, 0, 0, 0, 0, 0, 0, 0, 0, 0, 0, 0, 0, 0, 0, 0,\n",
            "       0, 0, 0, 0, 0, 0, 0, 0, 0, 0, 0, 0, 0, 0, 0, 1, 1, 1, 1, 1, 1, 1,\n",
            "       1, 1, 1, 1, 1, 1, 1, 1, 1, 1, 1, 1, 1, 1, 1, 1, 1, 1, 1, 1, 1, 1,\n",
            "       1, 1, 1, 1, 1, 1, 1, 1, 1, 1, 1, 1, 1, 1, 1, 1, 1, 1, 1, 1, 1, 1,\n",
            "       1, 1, 1, 1, 1, 1, 1, 1, 1, 1, 1, 1, 1, 1, 1, 1, 1, 1, 1, 1, 2, 2,\n",
            "       2, 2, 2, 2, 2, 2, 2, 2, 2, 2, 2, 2, 2, 2, 2, 2, 2, 2, 2, 2, 2, 2,\n",
            "       2, 2, 2, 2, 2, 2, 2, 2, 2, 2, 2, 2, 2, 2, 2, 2, 2, 2, 2, 2, 2, 2,\n",
            "       2, 2]), 'target_names': array(['class_0', 'class_1', 'class_2'], dtype='<U7'), 'DESCR': '.. _wine_dataset:\\n\\nWine recognition dataset\\n------------------------\\n\\n**Data Set Characteristics:**\\n\\n    :Number of Instances: 178 (50 in each of three classes)\\n    :Number of Attributes: 13 numeric, predictive attributes and the class\\n    :Attribute Information:\\n \\t\\t- Alcohol\\n \\t\\t- Malic acid\\n \\t\\t- Ash\\n\\t\\t- Alcalinity of ash  \\n \\t\\t- Magnesium\\n\\t\\t- Total phenols\\n \\t\\t- Flavanoids\\n \\t\\t- Nonflavanoid phenols\\n \\t\\t- Proanthocyanins\\n\\t\\t- Color intensity\\n \\t\\t- Hue\\n \\t\\t- OD280/OD315 of diluted wines\\n \\t\\t- Proline\\n\\n    - class:\\n            - class_0\\n            - class_1\\n            - class_2\\n\\t\\t\\n    :Summary Statistics:\\n    \\n    ============================= ==== ===== ======= =====\\n                                   Min   Max   Mean     SD\\n    ============================= ==== ===== ======= =====\\n    Alcohol:                      11.0  14.8    13.0   0.8\\n    Malic Acid:                   0.74  5.80    2.34  1.12\\n    Ash:                          1.36  3.23    2.36  0.27\\n    Alcalinity of Ash:            10.6  30.0    19.5   3.3\\n    Magnesium:                    70.0 162.0    99.7  14.3\\n    Total Phenols:                0.98  3.88    2.29  0.63\\n    Flavanoids:                   0.34  5.08    2.03  1.00\\n    Nonflavanoid Phenols:         0.13  0.66    0.36  0.12\\n    Proanthocyanins:              0.41  3.58    1.59  0.57\\n    Colour Intensity:              1.3  13.0     5.1   2.3\\n    Hue:                          0.48  1.71    0.96  0.23\\n    OD280/OD315 of diluted wines: 1.27  4.00    2.61  0.71\\n    Proline:                       278  1680     746   315\\n    ============================= ==== ===== ======= =====\\n\\n    :Missing Attribute Values: None\\n    :Class Distribution: class_0 (59), class_1 (71), class_2 (48)\\n    :Creator: R.A. Fisher\\n    :Donor: Michael Marshall (MARSHALL%PLU@io.arc.nasa.gov)\\n    :Date: July, 1988\\n\\nThis is a copy of UCI ML Wine recognition datasets.\\nhttps://archive.ics.uci.edu/ml/machine-learning-databases/wine/wine.data\\n\\nThe data is the results of a chemical analysis of wines grown in the same\\nregion in Italy by three different cultivators. There are thirteen different\\nmeasurements taken for different constituents found in the three types of\\nwine.\\n\\nOriginal Owners: \\n\\nForina, M. et al, PARVUS - \\nAn Extendible Package for Data Exploration, Classification and Correlation. \\nInstitute of Pharmaceutical and Food Analysis and Technologies,\\nVia Brigata Salerno, 16147 Genoa, Italy.\\n\\nCitation:\\n\\nLichman, M. (2013). UCI Machine Learning Repository\\n[https://archive.ics.uci.edu/ml]. Irvine, CA: University of California,\\nSchool of Information and Computer Science. \\n\\n.. topic:: References\\n\\n  (1) S. Aeberhard, D. Coomans and O. de Vel, \\n  Comparison of Classifiers in High Dimensional Settings, \\n  Tech. Rep. no. 92-02, (1992), Dept. of Computer Science and Dept. of  \\n  Mathematics and Statistics, James Cook University of North Queensland. \\n  (Also submitted to Technometrics). \\n\\n  The data was used with many others for comparing various \\n  classifiers. The classes are separable, though only RDA \\n  has achieved 100% correct classification. \\n  (RDA : 100%, QDA 99.4%, LDA 98.9%, 1NN 96.1% (z-transformed data)) \\n  (All results using the leave-one-out technique) \\n\\n  (2) S. Aeberhard, D. Coomans and O. de Vel, \\n  \"THE CLASSIFICATION PERFORMANCE OF RDA\" \\n  Tech. Rep. no. 92-01, (1992), Dept. of Computer Science and Dept. of \\n  Mathematics and Statistics, James Cook University of North Queensland. \\n  (Also submitted to Journal of Chemometrics).\\n', 'feature_names': ['alcohol', 'malic_acid', 'ash', 'alcalinity_of_ash', 'magnesium', 'total_phenols', 'flavanoids', 'nonflavanoid_phenols', 'proanthocyanins', 'color_intensity', 'hue', 'od280/od315_of_diluted_wines', 'proline']}\n"
          ],
          "name": "stdout"
        }
      ]
    },
    {
      "cell_type": "code",
      "metadata": {
        "id": "TPW7KDVpOlP0",
        "colab": {
          "base_uri": "https://localhost:8080/"
        },
        "outputId": "375046a2-e678-4e9f-87cc-4e95f1410086"
      },
      "source": [
        "dados = wine.data\n",
        "classes = wine.target\n",
        "print(dados)\n",
        "print(classes)"
      ],
      "execution_count": 35,
      "outputs": [
        {
          "output_type": "stream",
          "text": [
            "[[1.423e+01 1.710e+00 2.430e+00 ... 1.040e+00 3.920e+00 1.065e+03]\n",
            " [1.320e+01 1.780e+00 2.140e+00 ... 1.050e+00 3.400e+00 1.050e+03]\n",
            " [1.316e+01 2.360e+00 2.670e+00 ... 1.030e+00 3.170e+00 1.185e+03]\n",
            " ...\n",
            " [1.327e+01 4.280e+00 2.260e+00 ... 5.900e-01 1.560e+00 8.350e+02]\n",
            " [1.317e+01 2.590e+00 2.370e+00 ... 6.000e-01 1.620e+00 8.400e+02]\n",
            " [1.413e+01 4.100e+00 2.740e+00 ... 6.100e-01 1.600e+00 5.600e+02]]\n",
            "[0 0 0 0 0 0 0 0 0 0 0 0 0 0 0 0 0 0 0 0 0 0 0 0 0 0 0 0 0 0 0 0 0 0 0 0 0\n",
            " 0 0 0 0 0 0 0 0 0 0 0 0 0 0 0 0 0 0 0 0 0 0 1 1 1 1 1 1 1 1 1 1 1 1 1 1 1\n",
            " 1 1 1 1 1 1 1 1 1 1 1 1 1 1 1 1 1 1 1 1 1 1 1 1 1 1 1 1 1 1 1 1 1 1 1 1 1\n",
            " 1 1 1 1 1 1 1 1 1 1 1 1 1 1 1 1 1 1 1 2 2 2 2 2 2 2 2 2 2 2 2 2 2 2 2 2 2\n",
            " 2 2 2 2 2 2 2 2 2 2 2 2 2 2 2 2 2 2 2 2 2 2 2 2 2 2 2 2 2 2]\n"
          ],
          "name": "stdout"
        }
      ]
    },
    {
      "cell_type": "code",
      "metadata": {
        "id": "6LRnuyXDOtNV"
      },
      "source": [
        "from sklearn.utils import shuffle"
      ],
      "execution_count": 36,
      "outputs": []
    },
    {
      "cell_type": "code",
      "metadata": {
        "id": "iybnQWBMO_u4",
        "colab": {
          "base_uri": "https://localhost:8080/"
        },
        "outputId": "98cce93f-00af-4ebc-ba73-f70ab63d25f8"
      },
      "source": [
        "x = dados\n",
        "y = classes\n",
        "x, y = shuffle(x, y)\n",
        "print(x)\n",
        "print(y)"
      ],
      "execution_count": 37,
      "outputs": [
        {
          "output_type": "stream",
          "text": [
            "[[1.376e+01 1.530e+00 2.700e+00 ... 1.250e+00 3.000e+00 1.235e+03]\n",
            " [1.184e+01 8.900e-01 2.580e+00 ... 7.900e-01 3.080e+00 5.200e+02]\n",
            " [1.352e+01 3.170e+00 2.720e+00 ... 8.900e-01 2.060e+00 5.200e+02]\n",
            " ...\n",
            " [1.233e+01 1.100e+00 2.280e+00 ... 1.250e+00 1.670e+00 6.800e+02]\n",
            " [1.200e+01 1.510e+00 2.420e+00 ... 1.050e+00 2.650e+00 4.500e+02]\n",
            " [1.388e+01 5.040e+00 2.230e+00 ... 5.800e-01 1.330e+00 4.150e+02]]\n",
            "[0 1 2 2 1 2 2 0 1 1 2 1 2 1 1 0 2 0 1 0 2 1 0 1 0 0 0 2 2 2 1 0 0 2 1 0 2\n",
            " 0 1 0 2 0 0 0 2 0 0 1 1 1 0 0 0 1 0 1 1 2 0 1 1 0 1 0 1 2 2 2 2 1 1 0 1 1\n",
            " 2 0 2 1 1 0 0 1 0 1 1 0 1 0 1 0 0 0 0 0 2 1 2 1 1 1 2 1 2 1 2 0 1 1 1 0 0\n",
            " 0 1 0 2 1 1 0 1 1 2 0 0 2 2 0 1 2 0 1 1 1 2 1 2 1 1 0 0 0 1 0 2 2 2 2 0 0\n",
            " 1 1 1 0 2 1 2 0 1 0 2 2 2 0 1 2 2 2 1 1 1 1 1 1 1 2 0 1 1 2]\n"
          ],
          "name": "stdout"
        }
      ]
    },
    {
      "cell_type": "code",
      "metadata": {
        "id": "WzVYFd79hpYM",
        "colab": {
          "base_uri": "https://localhost:8080/"
        },
        "outputId": "99110898-1596-4637-8dc0-4e252cea07d3"
      },
      "source": [
        "for i in range(len(x[1])):\n",
        "  print(np.max(x[i]))\n",
        "  max = np.max(x[i])\n",
        "  if max < 10:\n",
        "    x[i] /= 10\n",
        "  elif max < 100:\n",
        "    x[i] /= 100\n",
        "  elif max < 1000:\n",
        "    x[i] /= 1000\n",
        "  else:\n",
        "    x[i] /= 10000\n",
        "\n",
        "for i in range(len(x[1])):\n",
        "  print(np.max(x[i]))"
      ],
      "execution_count": 38,
      "outputs": [
        {
          "output_type": "stream",
          "text": [
            "1235.0\n",
            "520.0\n",
            "520.0\n",
            "725.0\n",
            "365.0\n",
            "480.0\n",
            "855.0\n",
            "780.0\n",
            "342.0\n",
            "630.0\n",
            "675.0\n",
            "750.0\n",
            "835.0\n",
            "0.1235\n",
            "0.52\n",
            "0.52\n",
            "0.725\n",
            "0.365\n",
            "0.48\n",
            "0.855\n",
            "0.78\n",
            "0.342\n",
            "0.63\n",
            "0.675\n",
            "0.75\n",
            "0.835\n"
          ],
          "name": "stdout"
        }
      ]
    },
    {
      "cell_type": "code",
      "metadata": {
        "id": "BuqW-CcHPHc7",
        "colab": {
          "base_uri": "https://localhost:8080/"
        },
        "outputId": "53442708-5eb0-49e5-f4b0-b52b86c5bcaa"
      },
      "source": [
        "training_input = torch.FloatTensor(x[0:142, :])\n",
        "training_output = torch.FloatTensor(y[0:142])\n",
        "test_input = torch.FloatTensor(x[142:178, :])\n",
        "test_output = torch.FloatTensor(y[142:178])\n",
        "print(test_output.size())\n",
        "print(test_input.size())"
      ],
      "execution_count": 39,
      "outputs": [
        {
          "output_type": "stream",
          "text": [
            "torch.Size([36])\n",
            "torch.Size([36, 13])\n"
          ],
          "name": "stdout"
        }
      ]
    },
    {
      "cell_type": "code",
      "metadata": {
        "id": "N3s0hmHSPUEc"
      },
      "source": [
        "input_size = training_input.size()[1]\n",
        "hidden_size = 15\n",
        "model = Net(input_size, hidden_size)\n",
        "#print(model)\n",
        "for param in model.parameters():\n",
        "  #print(param)\n",
        "  pass"
      ],
      "execution_count": 40,
      "outputs": []
    },
    {
      "cell_type": "code",
      "metadata": {
        "id": "MBAFyZZ1Pe21",
        "colab": {
          "base_uri": "https://localhost:8080/"
        },
        "outputId": "446af118-b4a5-4659-bc69-85308a5cb661"
      },
      "source": [
        "#Preparando o treinamento\n",
        "criterion = torch.nn.MSELoss() #Mean Square Error Loss (saida_real - saida_prevista)^2\n",
        "optimizer = torch.optim.SGD(model.parameters(), lr = 0.1)\n",
        "\n",
        "#Avaliar o erro inicial da rede\n",
        "model.eval() # roda a rede mas sem atualizar os pesos\n",
        "y_pred = model(test_input)\n",
        "before_train = criterion(y_pred.squeeze(), test_output)\n",
        "#[100,] --> [100]\n",
        "print(f'Erro antes do treinamento: {before_train.item()}')"
      ],
      "execution_count": 41,
      "outputs": [
        {
          "output_type": "stream",
          "text": [
            "Erro antes do treinamento: 0.5970232486724854\n"
          ],
          "name": "stdout"
        }
      ]
    },
    {
      "cell_type": "code",
      "metadata": {
        "id": "iRzgRjFcPpv8",
        "colab": {
          "base_uri": "https://localhost:8080/"
        },
        "outputId": "2bff921b-3b9a-4271-e161-3d83f912a3f0"
      },
      "source": [
        "#Treinamento da rede\n",
        "model.train()\n",
        "epochs = 10000\n",
        "errors = []\n",
        "for epoch in range(epochs):\n",
        "  optimizer.zero_grad()\n",
        "  #fazer o forward da minha rede\n",
        "  y_pred = model(training_input)\n",
        "  #calcula o erro desse treinamento\n",
        "  loss = criterion(y_pred.squeeze(), training_output)\n",
        "  errors.append(loss.item())\n",
        "  if epoch % 1000 == 0:\n",
        "    print(f'Epoch: {epoch}. Train loss: {loss.item()}')\n",
        "  #backpropagation\n",
        "  loss.backward()\n",
        "  optimizer.step()"
      ],
      "execution_count": 42,
      "outputs": [
        {
          "output_type": "stream",
          "text": [
            "Epoch: 0. Train loss: 0.691766083240509\n",
            "Epoch: 1000. Train loss: 0.6060497164726257\n",
            "Epoch: 2000. Train loss: 0.6057966351509094\n",
            "Epoch: 3000. Train loss: 0.6057255864143372\n",
            "Epoch: 4000. Train loss: 0.6056938171386719\n",
            "Epoch: 5000. Train loss: 0.6056761145591736\n",
            "Epoch: 6000. Train loss: 0.6056651473045349\n",
            "Epoch: 7000. Train loss: 0.6056576371192932\n",
            "Epoch: 8000. Train loss: 0.6056522130966187\n",
            "Epoch: 9000. Train loss: 0.6056482195854187\n"
          ],
          "name": "stdout"
        }
      ]
    },
    {
      "cell_type": "code",
      "metadata": {
        "id": "6v8Opk8nPx5K",
        "colab": {
          "base_uri": "https://localhost:8080/"
        },
        "outputId": "7e9a1ca4-0d06-43b9-ccbf-394ab4bfa47e"
      },
      "source": [
        "#Avaliar o erro pós treinamento da rede\n",
        "model.eval() # roda a rede mas sem atualizar os pesos\n",
        "y_pred = model(test_input)\n",
        "after_train = criterion(y_pred.squeeze(), test_output)\n",
        "print(f'Erro pós-treinamento: {after_train.item()}')"
      ],
      "execution_count": 43,
      "outputs": [
        {
          "output_type": "stream",
          "text": [
            "Erro pós-treinamento: 0.5833333134651184\n"
          ],
          "name": "stdout"
        }
      ]
    },
    {
      "cell_type": "code",
      "metadata": {
        "id": "kePBsuhjP3HK"
      },
      "source": [
        "import matplotlib.pyplot as plt\n",
        "import numpy as np"
      ],
      "execution_count": 44,
      "outputs": []
    },
    {
      "cell_type": "code",
      "metadata": {
        "id": "_80pROvUP55L",
        "colab": {
          "base_uri": "https://localhost:8080/",
          "height": 350
        },
        "outputId": "82a341b2-b5ce-4dfd-b45a-06e21b826819"
      },
      "source": [
        "def plotcharts(errors):\n",
        "    errors = np.array(errors)\n",
        "    plt.figure(figsize=(12, 5))\n",
        "    graf02 = plt.subplot(1, 2, 1) # nrows, ncols, index\n",
        "    graf02.set_title('Errors')\n",
        "    plt.plot(errors, '-')\n",
        "    plt.xlabel('Epochs')\n",
        "    graf03 = plt.subplot(1, 2, 2)\n",
        "    graf03.set_title('Tests')\n",
        "    a = plt.plot(test_output.numpy(), 'yo', label='Real')\n",
        "    plt.setp(a, markersize=10)\n",
        "    a = plt.plot(y_pred.detach().numpy(), 'b+', label='Predicted')\n",
        "    plt.setp(a, markersize=10)\n",
        "    plt.legend(loc=7)\n",
        "    plt.show()\n",
        "plotcharts(errors)"
      ],
      "execution_count": 45,
      "outputs": [
        {
          "output_type": "display_data",
          "data": {
            "image/png": "[encoded data removed]",
            "text/plain": [
              "<Figure size 864x360 with 2 Axes>"
            ]
          },
          "metadata": {
            "tags": [],
            "needs_background": "light"
          }
        }
      ]
    }
  ]
}